{
  "nbformat": 4,
  "nbformat_minor": 0,
  "metadata": {
    "colab": {
      "provenance": [],
      "mount_file_id": "1P-HYe5Z0M6kTCBX-mtI0cjed5OBi_sRZ",
      "authorship_tag": "ABX9TyP6C6+68Pv9eS5X1o2WTstu",
      "include_colab_link": true
    },
    "kernelspec": {
      "name": "python3",
      "display_name": "Python 3"
    },
    "language_info": {
      "name": "python"
    }
  },
  "cells": [
    {
      "cell_type": "markdown",
      "metadata": {
        "id": "view-in-github",
        "colab_type": "text"
      },
      "source": [
        "<a href=\"https://colab.research.google.com/github/ZlatanSU87/Graduate-work.-Forecast-for-the-cafe-chain/blob/main/cafe_weather.ipynb\" target=\"_parent\"><img src=\"https://colab.research.google.com/assets/colab-badge.svg\" alt=\"Open In Colab\"/></a>"
      ]
    },
    {
      "cell_type": "markdown",
      "source": [
        "Импортируем библиотеки"
      ],
      "metadata": {
        "id": "l0y8izYEo1iT"
      }
    },
    {
      "cell_type": "code",
      "execution_count": null,
      "metadata": {
        "id": "5zCW8SyPxt1h"
      },
      "outputs": [],
      "source": [
        "import requests\n",
        "import pandas as pd\n",
        "import numpy as np\n",
        "from datetime import datetime, date, time\n",
        "\n",
        "# Путь к файлу на Google Drive\n",
        "INPUT_CSV = '/content/drive/MyDrive/Cafe_prediction/cafe_holiday.csv'\n",
        "OUTPUT_CSV = '/content/drive/MyDrive/Cafe_prediction/cafe_with_weather.csv'\n",
        "\n",
        "# Координаты центра Петрозаводска\n",
        "LAT, LON = 61.7833, 34.3500\n",
        "TIMEZONE = 'Europe/Moscow'\n",
        "\n",
        "df = pd.read_csv(INPUT_CSV)"
      ]
    },
    {
      "cell_type": "markdown",
      "source": [
        "Приведем имена предприятий к единообразию, а также время"
      ],
      "metadata": {
        "id": "FnBVgBl_o_nB"
      }
    },
    {
      "cell_type": "code",
      "source": [
        "# Создаем функцию для очистки имен\n",
        "def clean_shop_name(name):\n",
        "    parts = name.split()\n",
        "    if len(parts) > 1 and parts[0].lower() == 'кахви':\n",
        "        return parts[1]\n",
        "    elif len(parts) == 1:\n",
        "        return parts[0]\n",
        "    else:\n",
        "        return None\n",
        "\n",
        "# Применяем очистку к столбцу\n",
        "df['Торговое предприятие'] = df['Торговое предприятие'].apply(clean_shop_name)\n",
        "\n",
        "# Посчитаем итоговые значения\n",
        "print(df['Торговое предприятие'].value_counts())"
      ],
      "metadata": {
        "colab": {
          "base_uri": "https://localhost:8080/"
        },
        "id": "DT0LEjZRDSgQ",
        "outputId": "177e7cef-d803-4d69-99b6-be8a7e7f0556"
      },
      "execution_count": null,
      "outputs": [
        {
          "output_type": "stream",
          "name": "stdout",
          "text": [
            "Торговое предприятие\n",
            "Энгельса     1525256\n",
            "Свердлова     463940\n",
            "Плаза         366958\n",
            "Тетрис        143875\n",
            "Анохина        14131\n",
            "Name: count, dtype: int64\n"
          ]
        }
      ]
    },
    {
      "cell_type": "code",
      "source": [
        "# используем колонку \"Время открытия\" и приводим временную колонку к datetime\n",
        "df['time'] = pd.to_datetime(df['Время открытия'])\n",
        "# сделать timezone-aware (локальное московское время)\n",
        "try:\n",
        "    # если dt уже имеет tz, этот вызов вызовет ошибку, поэтому в try\n",
        "    df['time'] = df['time'].dt.tz_localize(TIMEZONE)\n",
        "except Exception:\n",
        "    # если уже tz-aware или pandas автоматом распознал tz, просто привести к нужному\n",
        "    df['time'] = df['time'].dt.tz_convert(TIMEZONE)\n",
        "\n",
        "start_date = df['time'].dt.date.min().isoformat()\n",
        "end_date   = df['time'].dt.date.max().isoformat()\n",
        "print('Dates:', start_date, '->', end_date)"
      ],
      "metadata": {
        "colab": {
          "base_uri": "https://localhost:8080/"
        },
        "id": "4nfqbjtkyRjA",
        "outputId": "982e96c7-2695-4dbd-945d-ecf96111d109"
      },
      "execution_count": null,
      "outputs": [
        {
          "output_type": "stream",
          "name": "stdout",
          "text": [
            "Dates: 2021-04-06 -> 2025-09-18\n"
          ]
        }
      ]
    },
    {
      "cell_type": "markdown",
      "source": [
        "Соберем необходимые данные с помощью Open-Meteo archive API"
      ],
      "metadata": {
        "id": "xWZwclQGpoXL"
      }
    },
    {
      "cell_type": "code",
      "source": [
        "# Запрос к Open-Meteo archive API (hourly + daily)\n",
        "base_url = 'https://archive-api.open-meteo.com/v1/archive'\n",
        "params = {\n",
        "    'latitude': LAT,\n",
        "    'longitude': LON,\n",
        "    'start_date': start_date,\n",
        "    'end_date': end_date,\n",
        "    'timezone': TIMEZONE,\n",
        "    # hourly variables (чтобы посчитать средние/максимумы/ручную агрегацию)\n",
        "    'hourly': ','.join([\n",
        "        'temperature_2m',\n",
        "        'relativehumidity_2m',\n",
        "        'precipitation',   # суммарные осадки (включая снег)\n",
        "        'snowfall',        # снег отдельно (в мм)\n",
        "        'weathercode',\n",
        "        'windspeed_10m',\n",
        "        'windgusts_10m',\n",
        "        'is_day'           # 0/1 индикатор дневного периода\n",
        "    ]),\n",
        "    # daily: sunrise/sunset + агрегаты\n",
        "    'daily': ','.join([\n",
        "        'sunrise',\n",
        "        'sunset',\n",
        "        'rain_sum',\n",
        "        'snowfall_sum',\n",
        "        'precipitation_sum',\n",
        "        'temperature_2m_max',\n",
        "        'temperature_2m_min',\n",
        "        'windspeed_10m_max'\n",
        "    ])\n",
        "}\n",
        "\n",
        "print('Requesting weather from Open-Meteo...')\n",
        "r = requests.get(base_url, params=params, timeout=60)\n",
        "r.raise_for_status()\n",
        "data = r.json()"
      ],
      "metadata": {
        "colab": {
          "base_uri": "https://localhost:8080/"
        },
        "id": "aXRRiRSWyhbm",
        "outputId": "3c82151d-6e41-49a9-f8fe-e136d4ed1c81"
      },
      "execution_count": null,
      "outputs": [
        {
          "output_type": "stream",
          "name": "stdout",
          "text": [
            "Requesting weather from Open-Meteo...\n"
          ]
        }
      ]
    },
    {
      "cell_type": "code",
      "source": [
        "# Собираем hourly в DataFrame\n",
        "hourly = data.get('hourly', {})\n",
        "if not hourly or 'time' not in hourly:\n",
        "    raise RuntimeError('No hourly data returned by API. Response keys: %s' % list(data.keys()))\n",
        "\n",
        "hourly_df = pd.DataFrame(hourly)\n",
        "# приводим время к datetime с timezone\n",
        "hourly_df['time'] = pd.to_datetime(hourly_df['time'])\n",
        "# API вернул времена в локальной timezone (без tzinfo) — добавим tz\n",
        "try:\n",
        "    hourly_df['time'] = hourly_df['time'].dt.tz_localize(TIMEZONE)\n",
        "except Exception:\n",
        "    # если уже tz-aware, пропускаем\n",
        "    pass"
      ],
      "metadata": {
        "id": "Am8OaHqgynzZ"
      },
      "execution_count": null,
      "outputs": []
    },
    {
      "cell_type": "code",
      "source": [
        "# вычисляем дневные агрегаты из hourly\n",
        "hourly_df['date'] = hourly_df['time'].dt.date\n",
        "\n",
        "agg_funcs = {\n",
        "    'temperature_2m': ['mean', 'max', 'min'],\n",
        "    'precipitation': 'sum',\n",
        "    'snowfall': 'sum',\n",
        "    'windspeed_10m': 'mean',\n",
        "    'windgusts_10m': 'max',\n",
        "    'relativehumidity_2m': 'mean'\n",
        "}\n",
        "daily_agg = hourly_df.groupby('date').agg(agg_funcs)\n",
        "# упростим имена колонок\n",
        "daily_agg.columns = [\n",
        "    '_'.join(filter(None, col)).strip() for col in daily_agg.columns.values\n",
        "]\n",
        "daily_agg = daily_agg.reset_index()\n",
        "# переименование\n",
        "\n",
        "daily_agg = daily_agg.rename(columns={\n",
        "    'temperature_2m_mean': 't_mean',\n",
        "    'temperature_2m_max': 't_max',\n",
        "    'temperature_2m_min': 't_min',\n",
        "    'precipitation_sum' if 'precipitation_sum' in daily_agg.columns else 'precipitation_sum': 'precip',\n",
        "    'precipitation_sum': 'precip',\n",
        "    'precipitation_sum': 'precip',\n",
        "    'precipitation_sum': 'precip',\n",
        "    'precipitation_sum': 'precip'\n",
        "})\n",
        "\n",
        "# Если в daily_agg есть 'precipitation_sum' оно уже переименовано; но мы рассчитали precip из hourly:\n",
        "if 'precip' not in daily_agg.columns:\n",
        "    # precipitation sum из hourly\n",
        "    daily_agg['precip'] = daily_agg['precipitation_sum'] if 'precipitation_sum' in daily_agg.columns else daily_agg.get('precipitation_sum', daily_agg.get('precipitation', np.nan))\n",
        "# Добавим rain (precip - snowfall) и snow\n",
        "daily_agg['snow'] = daily_agg.get('snowfall_sum', np.nan)  # если есть daily snowfall_sum\n",
        "# если нет, то используем сумму hourly snowfall:\n",
        "if daily_agg['snow'].isna().all():\n",
        "    possible = [c for c in daily_agg.columns if 'snowfall' in c]\n",
        "    if possible:\n",
        "        daily_agg['snow'] = daily_agg[possible[0]]\n",
        "    else:\n",
        "        daily_agg['snow'] = 0.0\n",
        "\n",
        "# compute rain as precip - snow (clamp >=0)\n",
        "daily_agg['rain'] = (daily_agg['precip'] - daily_agg['snow']).clip(lower=0.0)\n",
        "\n",
        "# wind_mean / wind_max / humidity\n",
        "# Our earlier agg produced names 'windspeed_10m_mean' and 'windgusts_10m_max' and 'relativehumidity_2m_mean'\n",
        "# Map them to user-friendly names:\n",
        "if 'windspeed_10m_mean' in daily_agg.columns:\n",
        "    daily_agg = daily_agg.rename(columns={'windspeed_10m_mean': 'wind_mean'})\n",
        "elif 'windspeed_10m_mean' not in daily_agg.columns and 'windspeed_10m_mean' in hourly_df.columns:\n",
        "    daily_agg['wind_mean'] = hourly_df.groupby('date')['windspeed_10m'].mean().values\n",
        "\n",
        "if 'windgusts_10m_max' in daily_agg.columns:\n",
        "    daily_agg = daily_agg.rename(columns={'windgusts_10m_max': 'wind_max'})\n",
        "elif 'windgusts_10m_max' not in daily_agg.columns and 'windgusts_10m' in hourly_df.columns:\n",
        "    daily_agg['wind_max'] = hourly_df.groupby('date')['windgusts_10m'].max().values\n",
        "\n",
        "if 'relativehumidity_2m_mean' in daily_agg.columns:\n",
        "    daily_agg = daily_agg.rename(columns={'relativehumidity_2m_mean': 'humidity'})\n",
        "else:\n",
        "    # fallback compute from hourly\n",
        "    daily_agg['humidity'] = hourly_df.groupby('date')['relativehumidity_2m'].mean().values\n",
        "\n",
        "# weathercode: возьмём наиболее частое значение в течение дня (mode)\n",
        "def mode_or_nan(s):\n",
        "    m = s.mode()\n",
        "    return m.iloc[0] if not m.empty else np.nan\n",
        "\n",
        "weathercode_daily = hourly_df.groupby('date')['weathercode'].agg(mode_or_nan).reset_index().rename(columns={'weathercode':'weathercode'})\n",
        "daily_agg = daily_agg.merge(weathercode_daily, on='date', how='left')"
      ],
      "metadata": {
        "id": "KihwlPbgy5Co"
      },
      "execution_count": null,
      "outputs": []
    },
    {
      "cell_type": "code",
      "source": [
        "# Добавим sunrise/sunset из daily (чтобы сделать is_daytime)\n",
        "daily_meta = {}\n",
        "daily = data.get('daily', {})\n",
        "if daily:\n",
        "    # daily keys like 'time', 'sunrise', 'sunset'\n",
        "    daily_meta_df = pd.DataFrame(daily)\n",
        "    # ensure date column present and parsed\n",
        "    daily_meta_df['date'] = pd.to_datetime(daily_meta_df['time']).dt.date\n",
        "    # parse sunrise/sunset into timezone-aware timestamps\n",
        "    if 'sunrise' in daily_meta_df.columns and 'sunset' in daily_meta_df.columns:\n",
        "        # pd.to_datetime will parse strings like '2021-04-06T03:20'\n",
        "        daily_meta_df['sunrise_ts'] = pd.to_datetime(daily_meta_df['sunrise']).dt.tz_localize(TIMEZONE)\n",
        "        daily_meta_df['sunset_ts']  = pd.to_datetime(daily_meta_df['sunset']).dt.tz_localize(TIMEZONE)\n",
        "        daily_meta_df = daily_meta_df[['date','sunrise_ts','sunset_ts']]\n",
        "\n",
        "        daily_agg = daily_agg.merge(daily_meta_df, on='date', how='left')"
      ],
      "metadata": {
        "id": "NknW1IAtzKle"
      },
      "execution_count": null,
      "outputs": []
    },
    {
      "cell_type": "code",
      "source": [
        "# Merge погодные признаки в исходный датасет по дате\n",
        "df['date'] = df['time'].dt.date\n",
        "# ensure daily_agg.date is date type\n",
        "daily_agg['date'] = pd.to_datetime(daily_agg['date']).dt.date\n",
        "\n",
        "merged = df.merge(daily_agg, on='date', how='left', suffixes=('','_weather'))"
      ],
      "metadata": {
        "id": "ccRJqL0TzRMg"
      },
      "execution_count": null,
      "outputs": []
    },
    {
      "cell_type": "code",
      "source": [
        "# вычисляем is_daytime для каждой записи (опираясь на sunrise_ts/sunset_ts)\n",
        "if 'sunrise_ts' in merged.columns and 'sunset_ts' in merged.columns:\n",
        "    # сравнения работают с timezone-aware timestamps\n",
        "    merged['is_daytime'] = merged.apply(\n",
        "        lambda row: (row['time'] >= row['sunrise_ts']) and (row['time'] <= row['sunset_ts'])\n",
        "        if pd.notnull(row['sunrise_ts']) and pd.notnull(row['sunset_ts']) else np.nan,\n",
        "        axis=1\n",
        "    )\n",
        "else:\n",
        "    # fallback: считать дневным по локальному времени (8-22) — кафе работают в 8:00-22:00\n",
        "    merged['local_hour'] = merged['time'].dt.hour\n",
        "    merged['is_daytime'] = ((merged['local_hour'] >= 8) & (merged['local_hour'] <= 22)).astype(int)\n",
        "    merged.drop(columns=['local_hour'], inplace=True)"
      ],
      "metadata": {
        "id": "eHspXgaRzV1f"
      },
      "execution_count": null,
      "outputs": []
    },
    {
      "cell_type": "code",
      "source": [
        "# Оставим только нужные колонки погоды и переименуем их в требуемые имена\n",
        "# Проверим и нормализуем названия, которые могли оказаться в daily_agg\n",
        "for col in ['t_mean','t_max','t_min','precip','rain','snow','wind_mean','wind_max','humidity','weathercode','is_daytime']:\n",
        "    if col not in merged.columns:\n",
        "        merged[col] = np.nan"
      ],
      "metadata": {
        "id": "mDrh2ihDzZB3"
      },
      "execution_count": null,
      "outputs": []
    },
    {
      "cell_type": "markdown",
      "source": [
        "Записываем результат"
      ],
      "metadata": {
        "id": "S3HgKsXlqnyb"
      }
    },
    {
      "cell_type": "code",
      "source": [
        "merged.to_csv(OUTPUT_CSV, index=False)\n",
        "print('Saved merged file to', OUTPUT_CSV)"
      ],
      "metadata": {
        "colab": {
          "base_uri": "https://localhost:8080/"
        },
        "id": "VTcFITjtzeVv",
        "outputId": "4c9b2851-1ffc-4c74-8a20-6e7a35f0abbc"
      },
      "execution_count": null,
      "outputs": [
        {
          "output_type": "stream",
          "name": "stdout",
          "text": [
            "Saved merged file to /content/drive/MyDrive/Cafe_prediction/cafe_with_weather.csv\n"
          ]
        }
      ]
    },
    {
      "cell_type": "code",
      "source": [
        "df_weather = pd.read_csv('/content/drive/MyDrive/Cafe_prediction/cafe_with_weather.csv')"
      ],
      "metadata": {
        "id": "FDZ2ltqrzjeP"
      },
      "execution_count": null,
      "outputs": []
    },
    {
      "cell_type": "markdown",
      "source": [
        "Датасет с погодными явлениями"
      ],
      "metadata": {
        "id": "qNUH6NAIqsIX"
      }
    },
    {
      "cell_type": "code",
      "source": [
        "df_weather.iloc[:, 14:].head(4)"
      ],
      "metadata": {
        "colab": {
          "base_uri": "https://localhost:8080/",
          "height": 264
        },
        "id": "sFjOF9weLHiq",
        "outputId": "ef3b8c5f-1ecf-421d-ccaf-53ffe1e8a0a9"
      },
      "execution_count": null,
      "outputs": [
        {
          "output_type": "execute_result",
          "data": {
            "text/plain": [
              "                        time        date  t_mean  t_max  t_min  precip  \\\n",
              "0  2021-04-06 15:48:05+03:00  2021-04-06  1.9375    3.8   -0.6     2.5   \n",
              "1  2021-04-06 15:48:05+03:00  2021-04-06  1.9375    3.8   -0.6     2.5   \n",
              "2  2021-04-06 16:04:03+03:00  2021-04-06  1.9375    3.8   -0.6     2.5   \n",
              "3  2021-04-06 16:06:59+03:00  2021-04-06  1.9375    3.8   -0.6     2.5   \n",
              "\n",
              "   snowfall_sum  wind_mean  wind_max   humidity  snow  rain  weathercode  \\\n",
              "0           0.0    17.8125      49.0  76.583333   0.0   2.5           51   \n",
              "1           0.0    17.8125      49.0  76.583333   0.0   2.5           51   \n",
              "2           0.0    17.8125      49.0  76.583333   0.0   2.5           51   \n",
              "3           0.0    17.8125      49.0  76.583333   0.0   2.5           51   \n",
              "\n",
              "                  sunrise_ts                  sunset_ts  is_daytime  \n",
              "0  2021-04-06 05:47:00+03:00  2021-04-06 19:42:00+03:00        True  \n",
              "1  2021-04-06 05:47:00+03:00  2021-04-06 19:42:00+03:00        True  \n",
              "2  2021-04-06 05:47:00+03:00  2021-04-06 19:42:00+03:00        True  \n",
              "3  2021-04-06 05:47:00+03:00  2021-04-06 19:42:00+03:00        True  "
            ],
            "text/html": [
              "\n",
              "  <div id=\"df-08cc7c49-a7e0-4aab-aaeb-24d027384e93\" class=\"colab-df-container\">\n",
              "    <div>\n",
              "<style scoped>\n",
              "    .dataframe tbody tr th:only-of-type {\n",
              "        vertical-align: middle;\n",
              "    }\n",
              "\n",
              "    .dataframe tbody tr th {\n",
              "        vertical-align: top;\n",
              "    }\n",
              "\n",
              "    .dataframe thead th {\n",
              "        text-align: right;\n",
              "    }\n",
              "</style>\n",
              "<table border=\"1\" class=\"dataframe\">\n",
              "  <thead>\n",
              "    <tr style=\"text-align: right;\">\n",
              "      <th></th>\n",
              "      <th>time</th>\n",
              "      <th>date</th>\n",
              "      <th>t_mean</th>\n",
              "      <th>t_max</th>\n",
              "      <th>t_min</th>\n",
              "      <th>precip</th>\n",
              "      <th>snowfall_sum</th>\n",
              "      <th>wind_mean</th>\n",
              "      <th>wind_max</th>\n",
              "      <th>humidity</th>\n",
              "      <th>snow</th>\n",
              "      <th>rain</th>\n",
              "      <th>weathercode</th>\n",
              "      <th>sunrise_ts</th>\n",
              "      <th>sunset_ts</th>\n",
              "      <th>is_daytime</th>\n",
              "    </tr>\n",
              "  </thead>\n",
              "  <tbody>\n",
              "    <tr>\n",
              "      <th>0</th>\n",
              "      <td>2021-04-06 15:48:05+03:00</td>\n",
              "      <td>2021-04-06</td>\n",
              "      <td>1.9375</td>\n",
              "      <td>3.8</td>\n",
              "      <td>-0.6</td>\n",
              "      <td>2.5</td>\n",
              "      <td>0.0</td>\n",
              "      <td>17.8125</td>\n",
              "      <td>49.0</td>\n",
              "      <td>76.583333</td>\n",
              "      <td>0.0</td>\n",
              "      <td>2.5</td>\n",
              "      <td>51</td>\n",
              "      <td>2021-04-06 05:47:00+03:00</td>\n",
              "      <td>2021-04-06 19:42:00+03:00</td>\n",
              "      <td>True</td>\n",
              "    </tr>\n",
              "    <tr>\n",
              "      <th>1</th>\n",
              "      <td>2021-04-06 15:48:05+03:00</td>\n",
              "      <td>2021-04-06</td>\n",
              "      <td>1.9375</td>\n",
              "      <td>3.8</td>\n",
              "      <td>-0.6</td>\n",
              "      <td>2.5</td>\n",
              "      <td>0.0</td>\n",
              "      <td>17.8125</td>\n",
              "      <td>49.0</td>\n",
              "      <td>76.583333</td>\n",
              "      <td>0.0</td>\n",
              "      <td>2.5</td>\n",
              "      <td>51</td>\n",
              "      <td>2021-04-06 05:47:00+03:00</td>\n",
              "      <td>2021-04-06 19:42:00+03:00</td>\n",
              "      <td>True</td>\n",
              "    </tr>\n",
              "    <tr>\n",
              "      <th>2</th>\n",
              "      <td>2021-04-06 16:04:03+03:00</td>\n",
              "      <td>2021-04-06</td>\n",
              "      <td>1.9375</td>\n",
              "      <td>3.8</td>\n",
              "      <td>-0.6</td>\n",
              "      <td>2.5</td>\n",
              "      <td>0.0</td>\n",
              "      <td>17.8125</td>\n",
              "      <td>49.0</td>\n",
              "      <td>76.583333</td>\n",
              "      <td>0.0</td>\n",
              "      <td>2.5</td>\n",
              "      <td>51</td>\n",
              "      <td>2021-04-06 05:47:00+03:00</td>\n",
              "      <td>2021-04-06 19:42:00+03:00</td>\n",
              "      <td>True</td>\n",
              "    </tr>\n",
              "    <tr>\n",
              "      <th>3</th>\n",
              "      <td>2021-04-06 16:06:59+03:00</td>\n",
              "      <td>2021-04-06</td>\n",
              "      <td>1.9375</td>\n",
              "      <td>3.8</td>\n",
              "      <td>-0.6</td>\n",
              "      <td>2.5</td>\n",
              "      <td>0.0</td>\n",
              "      <td>17.8125</td>\n",
              "      <td>49.0</td>\n",
              "      <td>76.583333</td>\n",
              "      <td>0.0</td>\n",
              "      <td>2.5</td>\n",
              "      <td>51</td>\n",
              "      <td>2021-04-06 05:47:00+03:00</td>\n",
              "      <td>2021-04-06 19:42:00+03:00</td>\n",
              "      <td>True</td>\n",
              "    </tr>\n",
              "  </tbody>\n",
              "</table>\n",
              "</div>\n",
              "    <div class=\"colab-df-buttons\">\n",
              "\n",
              "  <div class=\"colab-df-container\">\n",
              "    <button class=\"colab-df-convert\" onclick=\"convertToInteractive('df-08cc7c49-a7e0-4aab-aaeb-24d027384e93')\"\n",
              "            title=\"Convert this dataframe to an interactive table.\"\n",
              "            style=\"display:none;\">\n",
              "\n",
              "  <svg xmlns=\"http://www.w3.org/2000/svg\" height=\"24px\" viewBox=\"0 -960 960 960\">\n",
              "    <path d=\"M120-120v-720h720v720H120Zm60-500h600v-160H180v160Zm220 220h160v-160H400v160Zm0 220h160v-160H400v160ZM180-400h160v-160H180v160Zm440 0h160v-160H620v160ZM180-180h160v-160H180v160Zm440 0h160v-160H620v160Z\"/>\n",
              "  </svg>\n",
              "    </button>\n",
              "\n",
              "  <style>\n",
              "    .colab-df-container {\n",
              "      display:flex;\n",
              "      gap: 12px;\n",
              "    }\n",
              "\n",
              "    .colab-df-convert {\n",
              "      background-color: #E8F0FE;\n",
              "      border: none;\n",
              "      border-radius: 50%;\n",
              "      cursor: pointer;\n",
              "      display: none;\n",
              "      fill: #1967D2;\n",
              "      height: 32px;\n",
              "      padding: 0 0 0 0;\n",
              "      width: 32px;\n",
              "    }\n",
              "\n",
              "    .colab-df-convert:hover {\n",
              "      background-color: #E2EBFA;\n",
              "      box-shadow: 0px 1px 2px rgba(60, 64, 67, 0.3), 0px 1px 3px 1px rgba(60, 64, 67, 0.15);\n",
              "      fill: #174EA6;\n",
              "    }\n",
              "\n",
              "    .colab-df-buttons div {\n",
              "      margin-bottom: 4px;\n",
              "    }\n",
              "\n",
              "    [theme=dark] .colab-df-convert {\n",
              "      background-color: #3B4455;\n",
              "      fill: #D2E3FC;\n",
              "    }\n",
              "\n",
              "    [theme=dark] .colab-df-convert:hover {\n",
              "      background-color: #434B5C;\n",
              "      box-shadow: 0px 1px 3px 1px rgba(0, 0, 0, 0.15);\n",
              "      filter: drop-shadow(0px 1px 2px rgba(0, 0, 0, 0.3));\n",
              "      fill: #FFFFFF;\n",
              "    }\n",
              "  </style>\n",
              "\n",
              "    <script>\n",
              "      const buttonEl =\n",
              "        document.querySelector('#df-08cc7c49-a7e0-4aab-aaeb-24d027384e93 button.colab-df-convert');\n",
              "      buttonEl.style.display =\n",
              "        google.colab.kernel.accessAllowed ? 'block' : 'none';\n",
              "\n",
              "      async function convertToInteractive(key) {\n",
              "        const element = document.querySelector('#df-08cc7c49-a7e0-4aab-aaeb-24d027384e93');\n",
              "        const dataTable =\n",
              "          await google.colab.kernel.invokeFunction('convertToInteractive',\n",
              "                                                    [key], {});\n",
              "        if (!dataTable) return;\n",
              "\n",
              "        const docLinkHtml = 'Like what you see? Visit the ' +\n",
              "          '<a target=\"_blank\" href=https://colab.research.google.com/notebooks/data_table.ipynb>data table notebook</a>'\n",
              "          + ' to learn more about interactive tables.';\n",
              "        element.innerHTML = '';\n",
              "        dataTable['output_type'] = 'display_data';\n",
              "        await google.colab.output.renderOutput(dataTable, element);\n",
              "        const docLink = document.createElement('div');\n",
              "        docLink.innerHTML = docLinkHtml;\n",
              "        element.appendChild(docLink);\n",
              "      }\n",
              "    </script>\n",
              "  </div>\n",
              "\n",
              "\n",
              "    <div id=\"df-013db1b1-2cf6-49dd-b28f-a0b8cbc891de\">\n",
              "      <button class=\"colab-df-quickchart\" onclick=\"quickchart('df-013db1b1-2cf6-49dd-b28f-a0b8cbc891de')\"\n",
              "                title=\"Suggest charts\"\n",
              "                style=\"display:none;\">\n",
              "\n",
              "<svg xmlns=\"http://www.w3.org/2000/svg\" height=\"24px\"viewBox=\"0 0 24 24\"\n",
              "     width=\"24px\">\n",
              "    <g>\n",
              "        <path d=\"M19 3H5c-1.1 0-2 .9-2 2v14c0 1.1.9 2 2 2h14c1.1 0 2-.9 2-2V5c0-1.1-.9-2-2-2zM9 17H7v-7h2v7zm4 0h-2V7h2v10zm4 0h-2v-4h2v4z\"/>\n",
              "    </g>\n",
              "</svg>\n",
              "      </button>\n",
              "\n",
              "<style>\n",
              "  .colab-df-quickchart {\n",
              "      --bg-color: #E8F0FE;\n",
              "      --fill-color: #1967D2;\n",
              "      --hover-bg-color: #E2EBFA;\n",
              "      --hover-fill-color: #174EA6;\n",
              "      --disabled-fill-color: #AAA;\n",
              "      --disabled-bg-color: #DDD;\n",
              "  }\n",
              "\n",
              "  [theme=dark] .colab-df-quickchart {\n",
              "      --bg-color: #3B4455;\n",
              "      --fill-color: #D2E3FC;\n",
              "      --hover-bg-color: #434B5C;\n",
              "      --hover-fill-color: #FFFFFF;\n",
              "      --disabled-bg-color: #3B4455;\n",
              "      --disabled-fill-color: #666;\n",
              "  }\n",
              "\n",
              "  .colab-df-quickchart {\n",
              "    background-color: var(--bg-color);\n",
              "    border: none;\n",
              "    border-radius: 50%;\n",
              "    cursor: pointer;\n",
              "    display: none;\n",
              "    fill: var(--fill-color);\n",
              "    height: 32px;\n",
              "    padding: 0;\n",
              "    width: 32px;\n",
              "  }\n",
              "\n",
              "  .colab-df-quickchart:hover {\n",
              "    background-color: var(--hover-bg-color);\n",
              "    box-shadow: 0 1px 2px rgba(60, 64, 67, 0.3), 0 1px 3px 1px rgba(60, 64, 67, 0.15);\n",
              "    fill: var(--button-hover-fill-color);\n",
              "  }\n",
              "\n",
              "  .colab-df-quickchart-complete:disabled,\n",
              "  .colab-df-quickchart-complete:disabled:hover {\n",
              "    background-color: var(--disabled-bg-color);\n",
              "    fill: var(--disabled-fill-color);\n",
              "    box-shadow: none;\n",
              "  }\n",
              "\n",
              "  .colab-df-spinner {\n",
              "    border: 2px solid var(--fill-color);\n",
              "    border-color: transparent;\n",
              "    border-bottom-color: var(--fill-color);\n",
              "    animation:\n",
              "      spin 1s steps(1) infinite;\n",
              "  }\n",
              "\n",
              "  @keyframes spin {\n",
              "    0% {\n",
              "      border-color: transparent;\n",
              "      border-bottom-color: var(--fill-color);\n",
              "      border-left-color: var(--fill-color);\n",
              "    }\n",
              "    20% {\n",
              "      border-color: transparent;\n",
              "      border-left-color: var(--fill-color);\n",
              "      border-top-color: var(--fill-color);\n",
              "    }\n",
              "    30% {\n",
              "      border-color: transparent;\n",
              "      border-left-color: var(--fill-color);\n",
              "      border-top-color: var(--fill-color);\n",
              "      border-right-color: var(--fill-color);\n",
              "    }\n",
              "    40% {\n",
              "      border-color: transparent;\n",
              "      border-right-color: var(--fill-color);\n",
              "      border-top-color: var(--fill-color);\n",
              "    }\n",
              "    60% {\n",
              "      border-color: transparent;\n",
              "      border-right-color: var(--fill-color);\n",
              "    }\n",
              "    80% {\n",
              "      border-color: transparent;\n",
              "      border-right-color: var(--fill-color);\n",
              "      border-bottom-color: var(--fill-color);\n",
              "    }\n",
              "    90% {\n",
              "      border-color: transparent;\n",
              "      border-bottom-color: var(--fill-color);\n",
              "    }\n",
              "  }\n",
              "</style>\n",
              "\n",
              "      <script>\n",
              "        async function quickchart(key) {\n",
              "          const quickchartButtonEl =\n",
              "            document.querySelector('#' + key + ' button');\n",
              "          quickchartButtonEl.disabled = true;  // To prevent multiple clicks.\n",
              "          quickchartButtonEl.classList.add('colab-df-spinner');\n",
              "          try {\n",
              "            const charts = await google.colab.kernel.invokeFunction(\n",
              "                'suggestCharts', [key], {});\n",
              "          } catch (error) {\n",
              "            console.error('Error during call to suggestCharts:', error);\n",
              "          }\n",
              "          quickchartButtonEl.classList.remove('colab-df-spinner');\n",
              "          quickchartButtonEl.classList.add('colab-df-quickchart-complete');\n",
              "        }\n",
              "        (() => {\n",
              "          let quickchartButtonEl =\n",
              "            document.querySelector('#df-013db1b1-2cf6-49dd-b28f-a0b8cbc891de button');\n",
              "          quickchartButtonEl.style.display =\n",
              "            google.colab.kernel.accessAllowed ? 'block' : 'none';\n",
              "        })();\n",
              "      </script>\n",
              "    </div>\n",
              "    </div>\n",
              "  </div>\n"
            ],
            "application/vnd.google.colaboratory.intrinsic+json": {
              "type": "dataframe",
              "summary": "{\n  \"name\": \"df_weather\",\n  \"rows\": 4,\n  \"fields\": [\n    {\n      \"column\": \"time\",\n      \"properties\": {\n        \"dtype\": \"object\",\n        \"num_unique_values\": 3,\n        \"samples\": [\n          \"2021-04-06 15:48:05+03:00\",\n          \"2021-04-06 16:04:03+03:00\",\n          \"2021-04-06 16:06:59+03:00\"\n        ],\n        \"semantic_type\": \"\",\n        \"description\": \"\"\n      }\n    },\n    {\n      \"column\": \"date\",\n      \"properties\": {\n        \"dtype\": \"object\",\n        \"num_unique_values\": 1,\n        \"samples\": [\n          \"2021-04-06\"\n        ],\n        \"semantic_type\": \"\",\n        \"description\": \"\"\n      }\n    },\n    {\n      \"column\": \"t_mean\",\n      \"properties\": {\n        \"dtype\": \"number\",\n        \"std\": 0.0,\n        \"min\": 1.9375,\n        \"max\": 1.9375,\n        \"num_unique_values\": 1,\n        \"samples\": [\n          1.9375\n        ],\n        \"semantic_type\": \"\",\n        \"description\": \"\"\n      }\n    },\n    {\n      \"column\": \"t_max\",\n      \"properties\": {\n        \"dtype\": \"number\",\n        \"std\": 0.0,\n        \"min\": 3.8,\n        \"max\": 3.8,\n        \"num_unique_values\": 1,\n        \"samples\": [\n          3.8\n        ],\n        \"semantic_type\": \"\",\n        \"description\": \"\"\n      }\n    },\n    {\n      \"column\": \"t_min\",\n      \"properties\": {\n        \"dtype\": \"number\",\n        \"std\": 0.0,\n        \"min\": -0.6,\n        \"max\": -0.6,\n        \"num_unique_values\": 1,\n        \"samples\": [\n          -0.6\n        ],\n        \"semantic_type\": \"\",\n        \"description\": \"\"\n      }\n    },\n    {\n      \"column\": \"precip\",\n      \"properties\": {\n        \"dtype\": \"number\",\n        \"std\": 0.0,\n        \"min\": 2.5,\n        \"max\": 2.5,\n        \"num_unique_values\": 1,\n        \"samples\": [\n          2.5\n        ],\n        \"semantic_type\": \"\",\n        \"description\": \"\"\n      }\n    },\n    {\n      \"column\": \"snowfall_sum\",\n      \"properties\": {\n        \"dtype\": \"number\",\n        \"std\": 0.0,\n        \"min\": 0.0,\n        \"max\": 0.0,\n        \"num_unique_values\": 1,\n        \"samples\": [\n          0.0\n        ],\n        \"semantic_type\": \"\",\n        \"description\": \"\"\n      }\n    },\n    {\n      \"column\": \"wind_mean\",\n      \"properties\": {\n        \"dtype\": \"number\",\n        \"std\": 0.0,\n        \"min\": 17.8125,\n        \"max\": 17.8125,\n        \"num_unique_values\": 1,\n        \"samples\": [\n          17.8125\n        ],\n        \"semantic_type\": \"\",\n        \"description\": \"\"\n      }\n    },\n    {\n      \"column\": \"wind_max\",\n      \"properties\": {\n        \"dtype\": \"number\",\n        \"std\": 0.0,\n        \"min\": 49.0,\n        \"max\": 49.0,\n        \"num_unique_values\": 1,\n        \"samples\": [\n          49.0\n        ],\n        \"semantic_type\": \"\",\n        \"description\": \"\"\n      }\n    },\n    {\n      \"column\": \"humidity\",\n      \"properties\": {\n        \"dtype\": \"number\",\n        \"std\": 0.0,\n        \"min\": 76.58333333333333,\n        \"max\": 76.58333333333333,\n        \"num_unique_values\": 1,\n        \"samples\": [\n          76.58333333333333\n        ],\n        \"semantic_type\": \"\",\n        \"description\": \"\"\n      }\n    },\n    {\n      \"column\": \"snow\",\n      \"properties\": {\n        \"dtype\": \"number\",\n        \"std\": 0.0,\n        \"min\": 0.0,\n        \"max\": 0.0,\n        \"num_unique_values\": 1,\n        \"samples\": [\n          0.0\n        ],\n        \"semantic_type\": \"\",\n        \"description\": \"\"\n      }\n    },\n    {\n      \"column\": \"rain\",\n      \"properties\": {\n        \"dtype\": \"number\",\n        \"std\": 0.0,\n        \"min\": 2.5,\n        \"max\": 2.5,\n        \"num_unique_values\": 1,\n        \"samples\": [\n          2.5\n        ],\n        \"semantic_type\": \"\",\n        \"description\": \"\"\n      }\n    },\n    {\n      \"column\": \"weathercode\",\n      \"properties\": {\n        \"dtype\": \"number\",\n        \"std\": 0,\n        \"min\": 51,\n        \"max\": 51,\n        \"num_unique_values\": 1,\n        \"samples\": [\n          51\n        ],\n        \"semantic_type\": \"\",\n        \"description\": \"\"\n      }\n    },\n    {\n      \"column\": \"sunrise_ts\",\n      \"properties\": {\n        \"dtype\": \"object\",\n        \"num_unique_values\": 1,\n        \"samples\": [\n          \"2021-04-06 05:47:00+03:00\"\n        ],\n        \"semantic_type\": \"\",\n        \"description\": \"\"\n      }\n    },\n    {\n      \"column\": \"sunset_ts\",\n      \"properties\": {\n        \"dtype\": \"object\",\n        \"num_unique_values\": 1,\n        \"samples\": [\n          \"2021-04-06 19:42:00+03:00\"\n        ],\n        \"semantic_type\": \"\",\n        \"description\": \"\"\n      }\n    },\n    {\n      \"column\": \"is_daytime\",\n      \"properties\": {\n        \"dtype\": \"boolean\",\n        \"num_unique_values\": 1,\n        \"samples\": [\n          true\n        ],\n        \"semantic_type\": \"\",\n        \"description\": \"\"\n      }\n    }\n  ]\n}"
            }
          },
          "metadata": {},
          "execution_count": 32
        }
      ]
    },
    {
      "cell_type": "code",
      "source": [
        "df_weather.info()"
      ],
      "metadata": {
        "colab": {
          "base_uri": "https://localhost:8080/"
        },
        "id": "vb4f22UcLLiU",
        "outputId": "3e42603f-183d-4f5c-9ee8-0cef623b0fc3"
      },
      "execution_count": null,
      "outputs": [
        {
          "output_type": "stream",
          "name": "stdout",
          "text": [
            "<class 'pandas.core.frame.DataFrame'>\n",
            "RangeIndex: 2514160 entries, 0 to 2514159\n",
            "Data columns (total 30 columns):\n",
            " #   Column                Dtype  \n",
            "---  ------                -----  \n",
            " 0   Время открытия        object \n",
            " 1   Блюдо                 object \n",
            " 2   Количество блюд       float64\n",
            " 3   Группа блюда          object \n",
            " 4   Тип оплаты            object \n",
            " 5   Торговое предприятие  object \n",
            " 6   Сумма со скидкой, р.  float64\n",
            " 7   Сумма без скидки, р.  float64\n",
            " 8   Наценка(%)            float64\n",
            " 9   Себестоимость, р.     float64\n",
            " 10  Себестоимость(%)      float64\n",
            " 11  Дата                  object \n",
            " 12  holiday_name          object \n",
            " 13  is_holiday            int64  \n",
            " 14  time                  object \n",
            " 15  date                  object \n",
            " 16  t_mean                float64\n",
            " 17  t_max                 float64\n",
            " 18  t_min                 float64\n",
            " 19  precip                float64\n",
            " 20  snowfall_sum          float64\n",
            " 21  wind_mean             float64\n",
            " 22  wind_max              float64\n",
            " 23  humidity              float64\n",
            " 24  snow                  float64\n",
            " 25  rain                  float64\n",
            " 26  weathercode           int64  \n",
            " 27  sunrise_ts            object \n",
            " 28  sunset_ts             object \n",
            " 29  is_daytime            bool   \n",
            "dtypes: bool(1), float64(16), int64(2), object(11)\n",
            "memory usage: 558.7+ MB\n"
          ]
        }
      ]
    }
  ]
}